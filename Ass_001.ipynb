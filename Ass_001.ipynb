{
 "cells": [
  {
   "cell_type": "markdown",
   "id": "0e5ddd8f",
   "metadata": {},
   "source": [
    "Q1. In the below elements which of them are values or an expression? eg:- values can be\n",
    "integer or string and expressions will be mathematical operators.\n",
    "\n",
    "*\n",
    "\n",
    "'hello'\n",
    "\n",
    "-87.8\n",
    "\n",
    "-\n",
    "\n",
    "/\n",
    "\n",
    "+\n",
    "\n",
    "6"
   ]
  },
  {
   "cell_type": "code",
   "execution_count": 1,
   "id": "a75d3151",
   "metadata": {},
   "outputs": [],
   "source": [
    "#ans1.\n",
    "# values are : ['hello' , -87.8 , 6]\n",
    "# Expression (mathematical operators) are : [* , - , / , +]"
   ]
  },
  {
   "cell_type": "markdown",
   "id": "3bad14fc",
   "metadata": {},
   "source": [
    "Q2. What is the difference between string and variable?"
   ]
  },
  {
   "cell_type": "code",
   "execution_count": null,
   "id": "92da95ed",
   "metadata": {},
   "outputs": [],
   "source": [
    "#ans2.\n",
    "#String - String is one of the data type in python and can be used to fill up a variable.\n",
    "#Variable - It can be said as empty box or symbol an object which is used to store data in a program."
   ]
  },
  {
   "cell_type": "markdown",
   "id": "40b8c053",
   "metadata": {},
   "source": [
    "Q3. Describe three different data types."
   ]
  },
  {
   "cell_type": "code",
   "execution_count": null,
   "id": "0498c8e1",
   "metadata": {},
   "outputs": [],
   "source": [
    "#ans3.\n",
    "#though there are different types of data types in python:\n",
    "#1. Numeric - these can be \n",
    "#                  - Int : Integer. \n",
    "#                  - Float : value having decimals too.\n",
    "#                  - Complex  : Numbers having both real and imaginary part \n",
    "#2. Boolean - True / 1 and False / 0\n",
    "#3. Sequence - these can be \n",
    "#                  - list : it is an ordered collection of heterogeneous data and mutable defined by square brakets [].\n",
    "#                  - String : it is collection of one or more characters put in single or double quote. \n",
    "#                  - Tuple : it is also an ordered collection of heterogenous data but unmutable and defined by paranthesis ().\n",
    "#4. Set - it is an unordered collection of data type which has no duplicates and defined by {}.\n",
    "#5. Dictionary - it stores key and value pairs and defined by {:}."
   ]
  },
  {
   "cell_type": "markdown",
   "id": "c51c7462",
   "metadata": {},
   "source": [
    "Q4. What is an expression made up of? What do all expressions do?"
   ]
  },
  {
   "cell_type": "code",
   "execution_count": null,
   "id": "f4c82c72",
   "metadata": {},
   "outputs": [],
   "source": [
    "#ans4.\n",
    "# An expression is made up of operators and operands for example a + b\n",
    "# where a and b are operands and + is operator.\n",
    "# Epression is used to obtain some other value or to obtain a result>"
   ]
  },
  {
   "cell_type": "markdown",
   "id": "11078ca5",
   "metadata": {},
   "source": [
    "Q5. This assignment statements, like spam = 10. What is the difference between an\n",
    "expression and a statement?"
   ]
  },
  {
   "cell_type": "code",
   "execution_count": null,
   "id": "1373202c",
   "metadata": {},
   "outputs": [],
   "source": [
    "#ans5.\n",
    "# Assignment statements is used to assign data to some variable like spam = 10 \n",
    "# on the other hand expression is used to obtain a desired value or result like spam = 10 + a.\n",
    "# where is an integer"
   ]
  },
  {
   "cell_type": "markdown",
   "id": "53d76cf1",
   "metadata": {},
   "source": [
    "Q6. After running the following code, what does the variable bacon contain?\n",
    "\n",
    "bacon = 22\n",
    "\n",
    "bacon + 1"
   ]
  },
  {
   "cell_type": "code",
   "execution_count": null,
   "id": "de1d4ae7",
   "metadata": {},
   "outputs": [],
   "source": [
    "#ans6.\n",
    "# as 22 is assigned to bacon and then there is an expression but bacon is not re-assigned.\n",
    "# so bacon will contain 22 , as shown below"
   ]
  },
  {
   "cell_type": "code",
   "execution_count": 1,
   "id": "91970bc3",
   "metadata": {},
   "outputs": [
    {
     "data": {
      "text/plain": [
       "23"
      ]
     },
     "execution_count": 1,
     "metadata": {},
     "output_type": "execute_result"
    }
   ],
   "source": [
    "bacon = 22\n",
    "bacon + 1"
   ]
  },
  {
   "cell_type": "code",
   "execution_count": 2,
   "id": "b0306a80",
   "metadata": {},
   "outputs": [
    {
     "data": {
      "text/plain": [
       "22"
      ]
     },
     "execution_count": 2,
     "metadata": {},
     "output_type": "execute_result"
    }
   ],
   "source": [
    "bacon"
   ]
  },
  {
   "cell_type": "markdown",
   "id": "d0bdaf2b",
   "metadata": {},
   "source": [
    "Q7. What should the values of the following two terms be?\n",
    "\n",
    "'spam'+'spamspam'\n",
    "\n",
    "'spam'*3"
   ]
  },
  {
   "cell_type": "code",
   "execution_count": null,
   "id": "2fff2a16",
   "metadata": {},
   "outputs": [],
   "source": [
    "#ans7.\n",
    "#the values of the both expressions will be same."
   ]
  },
  {
   "cell_type": "code",
   "execution_count": 3,
   "id": "d3cdf1c7",
   "metadata": {},
   "outputs": [
    {
     "data": {
      "text/plain": [
       "'spamspamspam'"
      ]
     },
     "execution_count": 3,
     "metadata": {},
     "output_type": "execute_result"
    }
   ],
   "source": [
    "'spam'+'spamspam'"
   ]
  },
  {
   "cell_type": "code",
   "execution_count": 4,
   "id": "f95d423c",
   "metadata": {},
   "outputs": [
    {
     "data": {
      "text/plain": [
       "'spamspamspam'"
      ]
     },
     "execution_count": 4,
     "metadata": {},
     "output_type": "execute_result"
    }
   ],
   "source": [
    "'spam'*3"
   ]
  },
  {
   "cell_type": "markdown",
   "id": "7971553a",
   "metadata": {},
   "source": [
    "Q8. Why is eggs a valid variable name while 100 is invalid?"
   ]
  },
  {
   "cell_type": "code",
   "execution_count": null,
   "id": "a3f06406",
   "metadata": {},
   "outputs": [],
   "source": [
    "#ans8.\n",
    "# eggs is a valid varaible unlike 100 because varible name can not begin with number and also 100 is data.\n",
    "# a number can't be a varible."
   ]
  },
  {
   "cell_type": "markdown",
   "id": "c1fc5917",
   "metadata": {},
   "source": [
    "Q9. What three functions can be used to get the integer, floating-point number, or string\n",
    "version of a value?"
   ]
  },
  {
   "cell_type": "code",
   "execution_count": null,
   "id": "1a9cd6f8",
   "metadata": {},
   "outputs": [],
   "source": [
    "#ans9.\n",
    "# There are inbuilt function to get integer as int()\n",
    "#                            to get float-point number as float()\n",
    "#                            to get string as str()"
   ]
  },
  {
   "cell_type": "markdown",
   "id": "4540ec00",
   "metadata": {},
   "source": [
    "10. Why does this expression cause an error? How can you fix it?\n",
    "\n",
    "'I have eaten '+99+' burritos.'"
   ]
  },
  {
   "cell_type": "code",
   "execution_count": null,
   "id": "1bac2fba",
   "metadata": {},
   "outputs": [],
   "source": [
    "#ans10.\n",
    "# There will be TypeError that says we can't concatenate two data types that are stringa and integer.\n",
    "# The error is fixed below."
   ]
  },
  {
   "cell_type": "code",
   "execution_count": 5,
   "id": "9cc33401",
   "metadata": {},
   "outputs": [
    {
     "data": {
      "text/plain": [
       "'I have eaten 99 burritos.'"
      ]
     },
     "execution_count": 5,
     "metadata": {},
     "output_type": "execute_result"
    }
   ],
   "source": [
    "'I have eaten '+'99'+' burritos.'"
   ]
  },
  {
   "cell_type": "code",
   "execution_count": null,
   "id": "f7e9988b",
   "metadata": {},
   "outputs": [],
   "source": []
  }
 ],
 "metadata": {
  "kernelspec": {
   "display_name": "Python 3 (ipykernel)",
   "language": "python",
   "name": "python3"
  },
  "language_info": {
   "codemirror_mode": {
    "name": "ipython",
    "version": 3
   },
   "file_extension": ".py",
   "mimetype": "text/x-python",
   "name": "python",
   "nbconvert_exporter": "python",
   "pygments_lexer": "ipython3",
   "version": "3.9.12"
  }
 },
 "nbformat": 4,
 "nbformat_minor": 5
}
